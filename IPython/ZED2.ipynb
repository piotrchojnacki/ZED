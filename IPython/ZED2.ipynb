{
 "cells": [
  {
   "cell_type": "markdown",
   "metadata": {},
   "source": [
    "# <center>Zaawansowana Eksploracja Danych</center>\n",
    "## <center>Projekt z uczenia maszynowego</center>\n",
    "### <center>Piotr Chojnacki 100743</center>\n",
    "\n",
    "Celem drugiego projektu jest stworzenie dwóch klasyfikatorów danych krystalograficznych badanych w ramach analizy w języku R. Pierwszy klasyfikator powinien być nauczony na podstawie oryginalnego zbioru etykiet (res_name), a drugi na podstawie pogrupowanych etykiet (group_label), które dostarczy prowadzący.\n",
    "\n",
    "#### Zakres pracy:\n",
    "\n",
    "##### 0. Załączenie odpowiednich bibliotek:"
   ]
  },
  {
   "cell_type": "code",
   "execution_count": 1,
   "metadata": {
    "collapsed": false
   },
   "outputs": [],
   "source": [
    "import numpy as np\n",
    "import pandas as pd\n",
    "from sklearn.tree import DecisionTreeClassifier\n",
    "from sklearn.grid_search import GridSearchCV\n",
    "from sklearn.externals import joblib"
   ]
  },
  {
   "cell_type": "markdown",
   "metadata": {},
   "source": [
    "##### 1. Usuniętcie wierszy posiadających wartość zmiennej res_name równą: “DA”,“DC”,“DT”, “DU”, “DG”, “DI”,“UNK”, “UNX”, “UNL”, “PR”, “PD”, “Y1”, “EU”, “N”, “15P”, “UQ”, “PX4” lub “NAN”:"
   ]
  },
  {
   "cell_type": "code",
   "execution_count": 2,
   "metadata": {
    "collapsed": false
   },
   "outputs": [],
   "source": [
    "dataFrame = pd.read_csv('all_summary.txt', sep=\";\", na_values=[\"n/a\"], low_memory=False, keep_default_na = False, index_col=0)"
   ]
  },
  {
   "cell_type": "code",
   "execution_count": 3,
   "metadata": {
    "collapsed": false
   },
   "outputs": [
    {
     "data": {
      "text/plain": [
       "(40309, 794)"
      ]
     },
     "execution_count": 3,
     "metadata": {},
     "output_type": "execute_result"
    }
   ],
   "source": [
    "dataFrame.shape"
   ]
  },
  {
   "cell_type": "code",
   "execution_count": 4,
   "metadata": {
    "collapsed": false
   },
   "outputs": [
    {
     "data": {
      "text/plain": [
       "(40027, 794)"
      ]
     },
     "execution_count": 4,
     "metadata": {},
     "output_type": "execute_result"
    }
   ],
   "source": [
    "bad_res_name = [\"DA\",\"DC\",\"DT\",\"DU\",\"DG\",\"DI\",\"UNK\",\"UNX\",\"UNL\",\"PR\",\"PD\",\"Y1\",\"EU\",\"N\",\"15P\",\"UQ\",\"PX4\",\"NAN\"]\n",
    "dataFrame = dataFrame[~dataFrame.res_name.isin(bad_res_name)]\n",
    "dataFrame.shape"
   ]
  },
  {
   "cell_type": "markdown",
   "metadata": {},
   "source": [
    "##### 2. Pozostawienie unikatowych par (pdb_code, res_name):"
   ]
  },
  {
   "cell_type": "code",
   "execution_count": 5,
   "metadata": {
    "collapsed": false
   },
   "outputs": [
    {
     "data": {
      "text/plain": [
       "(14132, 794)"
      ]
     },
     "execution_count": 5,
     "metadata": {},
     "output_type": "execute_result"
    }
   ],
   "source": [
    "pairs = [\"pdb_code\", \"res_name\"]\n",
    "dataFrame = dataFrame.drop_duplicates(subset=pairs, keep='last')\n",
    "dataFrame.shape"
   ]
  },
  {
   "cell_type": "markdown",
   "metadata": {},
   "source": [
    "##### 3. Stworzenie klasyfikatora uczonego na oryginalnym zbiorze etykiet (res_name) korzystajcego ze wszystkich klas, których liczność wynosi co najmniej 5 przykładów:"
   ]
  },
  {
   "cell_type": "code",
   "execution_count": 6,
   "metadata": {
    "collapsed": false
   },
   "outputs": [
    {
     "data": {
      "text/plain": [
       "(11005, 794)"
      ]
     },
     "execution_count": 6,
     "metadata": {},
     "output_type": "execute_result"
    }
   ],
   "source": [
    "# Odfiltrowanie etykiet o liczności < 5:\n",
    "dataFrame['unique'] = dataFrame.res_name.map(dataFrame.res_name.value_counts())\n",
    "dataFrame = dataFrame[dataFrame.unique > 4]\n",
    "dataFrame = dataFrame.drop('unique', 1)\n",
    "dataFrame.shape"
   ]
  },
  {
   "cell_type": "code",
   "execution_count": 7,
   "metadata": {
    "collapsed": false
   },
   "outputs": [
    {
     "data": {
      "text/plain": [
       "[mean: 0.36947, std: 0.00644, params: {'max_depth': 3},\n",
       " mean: 0.47015, std: 0.00757, params: {'max_depth': 4},\n",
       " mean: 0.58319, std: 0.00906, params: {'max_depth': 5},\n",
       " mean: 0.63371, std: 0.00918, params: {'max_depth': 6},\n",
       " mean: 0.67433, std: 0.00862, params: {'max_depth': 7},\n",
       " mean: 0.70232, std: 0.00567, params: {'max_depth': 8},\n",
       " mean: 0.72376, std: 0.00340, params: {'max_depth': 9}]"
      ]
     },
     "execution_count": 7,
     "metadata": {},
     "output_type": "execute_result"
    }
   ],
   "source": [
    "# Klasyfikator 1:\n",
    "\n",
    "nums = ['int16', 'int32', 'int64']\n",
    "numericDataFrame = dataFrame.select_dtypes(include=nums)\n",
    "numericDataFrame.replace([np.inf, -np.inf], np.nan).dropna(axis=1).fillna(0)\n",
    "res_name_DF = dataFrame['res_name']\n",
    "\n",
    "param_grid = {'max_depth': np.arange(3, 10)}\n",
    "tree = GridSearchCV(DecisionTreeClassifier(), param_grid)\n",
    "\n",
    "tree.fit(numericDataFrame, res_name_DF)\n",
    "\n",
    "joblib.dump(tree, '1.pkl') \n",
    "\n",
    "tree.grid_scores_"
   ]
  },
  {
   "cell_type": "markdown",
   "metadata": {},
   "source": [
    "##### 4. Stworzenie klasyfikatora uczonego na pogrupowanych etykietach (group_label), z tych samych danych co pierwszy klasyfikator"
   ]
  },
  {
   "cell_type": "code",
   "execution_count": 8,
   "metadata": {
    "collapsed": false
   },
   "outputs": [
    {
     "data": {
      "text/plain": [
       "[mean: 1.00000, std: 0.00000, params: {'max_depth': 3},\n",
       " mean: 1.00000, std: 0.00000, params: {'max_depth': 4},\n",
       " mean: 1.00000, std: 0.00000, params: {'max_depth': 5},\n",
       " mean: 1.00000, std: 0.00000, params: {'max_depth': 6},\n",
       " mean: 1.00000, std: 0.00000, params: {'max_depth': 7},\n",
       " mean: 1.00000, std: 0.00000, params: {'max_depth': 8},\n",
       " mean: 1.00000, std: 0.00000, params: {'max_depth': 9}]"
      ]
     },
     "execution_count": 8,
     "metadata": {},
     "output_type": "execute_result"
    }
   ],
   "source": [
    "# Klasyfikator 2:\n",
    "\n",
    "nums = ['int16', 'int32', 'int64']\n",
    "dataFrameGrouped = pd.read_csv(\"grouped_res_name.txt\", sep=\",\", na_values=['n/a','NA','NaN','','nan'], low_memory=False, keep_default_na = False, index_col=0)\n",
    "dataFrame['res_name_group'] = dataFrameGrouped['res_name_group']\n",
    "res_name_DF = np.asarray(dataFrame[\"res_name_group\"], dtype=\"|S6\")\n",
    "\n",
    "numericDataFrame = dataFrame.select_dtypes(include=nums)\n",
    "numericDataFrame.replace([np.inf, -np.inf], np.nan).dropna(axis=1).fillna(0)\n",
    "\n",
    "param_grid = {'max_depth': np.arange(3, 10)}\n",
    "tree = GridSearchCV(DecisionTreeClassifier(), param_grid)\n",
    "tree.fit(numericDataFrame, res_name_DF)\n",
    "\n",
    "joblib.dump(tree, '2.pkl')\n",
    "\n",
    "tree.grid_scores_"
   ]
  }
 ],
 "metadata": {
  "kernelspec": {
   "display_name": "Python 2",
   "language": "python",
   "name": "python2"
  },
  "language_info": {
   "codemirror_mode": {
    "name": "ipython",
    "version": 2
   },
   "file_extension": ".py",
   "mimetype": "text/x-python",
   "name": "python",
   "nbconvert_exporter": "python",
   "pygments_lexer": "ipython2",
   "version": "2.7.11+"
  }
 },
 "nbformat": 4,
 "nbformat_minor": 1
}
